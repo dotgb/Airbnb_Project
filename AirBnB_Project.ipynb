{
 "cells": [
  {
   "cell_type": "markdown",
   "id": "f1fbad37-48ed-421f-9ebd-f9e128c27b1f",
   "metadata": {},
   "source": [
    "CRISP-DM process\n",
    "\n",
    "Cross Industry Standard Process for Data Mining\n",
    "\n",
    "Phases\n",
    "- Business Understanding\n",
    "- Data Understanding\n",
    "- Data Preparation\n",
    "- Model Development\n",
    "- Evaluation\n",
    "- Deployment"
   ]
  },
  {
   "cell_type": "markdown",
   "id": "e99022cb-2c28-4032-bde4-e72b412b26af",
   "metadata": {},
   "source": [
    "Project Details/Instructions & Deliverables\n",
    "\n",
    "'''\n",
    "<!-- Key Steps for the Project\n",
    "Feel free to be creative with your solutions, but do follow the CRISP-DM process in finding your solutions.\n",
    "\n",
    "Pick a dataset, as mentioned on the previous page.\n",
    "\n",
    "Pose at least three questions related to business or real-world applications of how the data could be used.\n",
    "\n",
    "Create a Jupyter Notebook, using any associated packages you'd like, to:\n",
    "\n",
    "Prepare data:\n",
    "Gather necessary data to answer your questions\n",
    "Handle categorical and missing data\n",
    "Provide insight into the methods you chose and why you chose them\n",
    "Analyze, Model, and Visualize\n",
    "Provide a clear connection between your business questions and how the data answers them\n",
    "Communicate your business insights:\n",
    "Create a Github repository to share your code and data wrangling/modeling techniques, with a technical audience in mind\n",
    "Create a blog post to share your questions and insights with a non-technical audience\n",
    "Project Deliverables\n",
    "There are two deliverables that are required for project completion.\n",
    "\n",
    "A Github repository for your code.\n",
    "A blog post of your findings.\n",
    "Your Github repository must have the following contents:\n",
    "\n",
    "A README.md file that communicates the libraries used, the motivation for the project, the files in the repository with a small description of each, a summary of the results of the analysis, and necessary acknowledgments.\n",
    "Your code in a Jupyter notebook, with appropriate comments, analysis, and documentation.\n",
    "You may also provide any other necessary documentation you find necessary.\n",
    "For the blog post, pick a platform of your own choice. For example, it can be on your website, a Medium post (Josh's sample report(opens in a new tab) on How Do YOU Become A Developer?), or a Github blog post. Your blog** **must provide the following:\n",
    "\n",
    "A clear and engaging title and image.\n",
    "Your questions of interest.\n",
    "Your findings for those questions with a supporting statistic(s), table, or visual.\n",
    "Note: The post should not dive into technical details or difficulties of the analysis; this should be saved for Github. The post should be understandable for non-technical people from many fields. -->\n",
    "'''"
   ]
  },
  {
   "cell_type": "code",
   "execution_count": null,
   "id": "3e58a8bb-3ea4-4340-bc2f-d5591c860d0a",
   "metadata": {},
   "outputs": [],
   "source": []
  }
 ],
 "metadata": {
  "kernelspec": {
   "display_name": "Python [conda env:base] *",
   "language": "python",
   "name": "conda-base-py"
  },
  "language_info": {
   "codemirror_mode": {
    "name": "ipython",
    "version": 3
   },
   "file_extension": ".py",
   "mimetype": "text/x-python",
   "name": "python",
   "nbconvert_exporter": "python",
   "pygments_lexer": "ipython3",
   "version": "3.12.8"
  }
 },
 "nbformat": 4,
 "nbformat_minor": 5
}
